{
 "cells": [
  {
   "cell_type": "code",
   "execution_count": 1,
   "metadata": {},
   "outputs": [],
   "source": [
    "import numpy as np\n",
    "import tensorflow as tf\n",
    "from tensorflow.keras.datasets import imdb\n",
    "from tensorflow.keras.preprocessing import sequence\n",
    "from tensorflow.keras.models import load_model"
   ]
  },
  {
   "cell_type": "code",
   "execution_count": 2,
   "metadata": {},
   "outputs": [],
   "source": [
    "# Load the IMDB dataset word index\n",
    "\n",
    "word_index = imdb.get_word_index()\n",
    "reverse_word_index = { value: key for key, value in word_index.items()}"
   ]
  },
  {
   "cell_type": "code",
   "execution_count": 3,
   "metadata": {},
   "outputs": [
    {
     "name": "stderr",
     "output_type": "stream",
     "text": [
      "WARNING:absl:Compiled the loaded model, but the compiled metrics have yet to be built. `model.compile_metrics` will be empty until you train or evaluate the model.\n"
     ]
    }
   ],
   "source": [
    "# Load the model\n",
    "\n",
    "model = load_model('model.h5')"
   ]
  },
  {
   "cell_type": "code",
   "execution_count": 4,
   "metadata": {},
   "outputs": [
    {
     "data": {
      "text/html": [
       "<pre style=\"white-space:pre;overflow-x:auto;line-height:normal;font-family:Menlo,'DejaVu Sans Mono',consolas,'Courier New',monospace\"><span style=\"font-weight: bold\">Model: \"sequential\"</span>\n",
       "</pre>\n"
      ],
      "text/plain": [
       "\u001b[1mModel: \"sequential\"\u001b[0m\n"
      ]
     },
     "metadata": {},
     "output_type": "display_data"
    },
    {
     "data": {
      "text/html": [
       "<pre style=\"white-space:pre;overflow-x:auto;line-height:normal;font-family:Menlo,'DejaVu Sans Mono',consolas,'Courier New',monospace\">┏━━━━━━━━━━━━━━━━━━━━━━━━━━━━━━━━━┳━━━━━━━━━━━━━━━━━━━━━━━━┳━━━━━━━━━━━━━━━┓\n",
       "┃<span style=\"font-weight: bold\"> Layer (type)                    </span>┃<span style=\"font-weight: bold\"> Output Shape           </span>┃<span style=\"font-weight: bold\">       Param # </span>┃\n",
       "┡━━━━━━━━━━━━━━━━━━━━━━━━━━━━━━━━━╇━━━━━━━━━━━━━━━━━━━━━━━━╇━━━━━━━━━━━━━━━┩\n",
       "│ embedding (<span style=\"color: #0087ff; text-decoration-color: #0087ff\">Embedding</span>)           │ (<span style=\"color: #00af00; text-decoration-color: #00af00\">32</span>, <span style=\"color: #00af00; text-decoration-color: #00af00\">500</span>, <span style=\"color: #00af00; text-decoration-color: #00af00\">128</span>)         │     <span style=\"color: #00af00; text-decoration-color: #00af00\">1,280,000</span> │\n",
       "├─────────────────────────────────┼────────────────────────┼───────────────┤\n",
       "│ simple_rnn (<span style=\"color: #0087ff; text-decoration-color: #0087ff\">SimpleRNN</span>)          │ (<span style=\"color: #00af00; text-decoration-color: #00af00\">32</span>, <span style=\"color: #00af00; text-decoration-color: #00af00\">128</span>)              │        <span style=\"color: #00af00; text-decoration-color: #00af00\">32,896</span> │\n",
       "├─────────────────────────────────┼────────────────────────┼───────────────┤\n",
       "│ dense (<span style=\"color: #0087ff; text-decoration-color: #0087ff\">Dense</span>)                   │ (<span style=\"color: #00af00; text-decoration-color: #00af00\">32</span>, <span style=\"color: #00af00; text-decoration-color: #00af00\">1</span>)                │           <span style=\"color: #00af00; text-decoration-color: #00af00\">129</span> │\n",
       "└─────────────────────────────────┴────────────────────────┴───────────────┘\n",
       "</pre>\n"
      ],
      "text/plain": [
       "┏━━━━━━━━━━━━━━━━━━━━━━━━━━━━━━━━━┳━━━━━━━━━━━━━━━━━━━━━━━━┳━━━━━━━━━━━━━━━┓\n",
       "┃\u001b[1m \u001b[0m\u001b[1mLayer (type)                   \u001b[0m\u001b[1m \u001b[0m┃\u001b[1m \u001b[0m\u001b[1mOutput Shape          \u001b[0m\u001b[1m \u001b[0m┃\u001b[1m \u001b[0m\u001b[1m      Param #\u001b[0m\u001b[1m \u001b[0m┃\n",
       "┡━━━━━━━━━━━━━━━━━━━━━━━━━━━━━━━━━╇━━━━━━━━━━━━━━━━━━━━━━━━╇━━━━━━━━━━━━━━━┩\n",
       "│ embedding (\u001b[38;5;33mEmbedding\u001b[0m)           │ (\u001b[38;5;34m32\u001b[0m, \u001b[38;5;34m500\u001b[0m, \u001b[38;5;34m128\u001b[0m)         │     \u001b[38;5;34m1,280,000\u001b[0m │\n",
       "├─────────────────────────────────┼────────────────────────┼───────────────┤\n",
       "│ simple_rnn (\u001b[38;5;33mSimpleRNN\u001b[0m)          │ (\u001b[38;5;34m32\u001b[0m, \u001b[38;5;34m128\u001b[0m)              │        \u001b[38;5;34m32,896\u001b[0m │\n",
       "├─────────────────────────────────┼────────────────────────┼───────────────┤\n",
       "│ dense (\u001b[38;5;33mDense\u001b[0m)                   │ (\u001b[38;5;34m32\u001b[0m, \u001b[38;5;34m1\u001b[0m)                │           \u001b[38;5;34m129\u001b[0m │\n",
       "└─────────────────────────────────┴────────────────────────┴───────────────┘\n"
      ]
     },
     "metadata": {},
     "output_type": "display_data"
    },
    {
     "data": {
      "text/html": [
       "<pre style=\"white-space:pre;overflow-x:auto;line-height:normal;font-family:Menlo,'DejaVu Sans Mono',consolas,'Courier New',monospace\"><span style=\"font-weight: bold\"> Total params: </span><span style=\"color: #00af00; text-decoration-color: #00af00\">1,313,027</span> (5.01 MB)\n",
       "</pre>\n"
      ],
      "text/plain": [
       "\u001b[1m Total params: \u001b[0m\u001b[38;5;34m1,313,027\u001b[0m (5.01 MB)\n"
      ]
     },
     "metadata": {},
     "output_type": "display_data"
    },
    {
     "data": {
      "text/html": [
       "<pre style=\"white-space:pre;overflow-x:auto;line-height:normal;font-family:Menlo,'DejaVu Sans Mono',consolas,'Courier New',monospace\"><span style=\"font-weight: bold\"> Trainable params: </span><span style=\"color: #00af00; text-decoration-color: #00af00\">1,313,025</span> (5.01 MB)\n",
       "</pre>\n"
      ],
      "text/plain": [
       "\u001b[1m Trainable params: \u001b[0m\u001b[38;5;34m1,313,025\u001b[0m (5.01 MB)\n"
      ]
     },
     "metadata": {},
     "output_type": "display_data"
    },
    {
     "data": {
      "text/html": [
       "<pre style=\"white-space:pre;overflow-x:auto;line-height:normal;font-family:Menlo,'DejaVu Sans Mono',consolas,'Courier New',monospace\"><span style=\"font-weight: bold\"> Non-trainable params: </span><span style=\"color: #00af00; text-decoration-color: #00af00\">0</span> (0.00 B)\n",
       "</pre>\n"
      ],
      "text/plain": [
       "\u001b[1m Non-trainable params: \u001b[0m\u001b[38;5;34m0\u001b[0m (0.00 B)\n"
      ]
     },
     "metadata": {},
     "output_type": "display_data"
    },
    {
     "data": {
      "text/html": [
       "<pre style=\"white-space:pre;overflow-x:auto;line-height:normal;font-family:Menlo,'DejaVu Sans Mono',consolas,'Courier New',monospace\"><span style=\"font-weight: bold\"> Optimizer params: </span><span style=\"color: #00af00; text-decoration-color: #00af00\">2</span> (12.00 B)\n",
       "</pre>\n"
      ],
      "text/plain": [
       "\u001b[1m Optimizer params: \u001b[0m\u001b[38;5;34m2\u001b[0m (12.00 B)\n"
      ]
     },
     "metadata": {},
     "output_type": "display_data"
    }
   ],
   "source": [
    "model.summary()"
   ]
  },
  {
   "cell_type": "code",
   "execution_count": 5,
   "metadata": {},
   "outputs": [
    {
     "data": {
      "text/plain": [
       "[array([[ 2.7389506e-01, -3.6228684e-01, -5.6984085e-01, ...,\n",
       "          4.8788783e-01,  1.2494851e-03, -4.9575586e-02],\n",
       "        [ 8.5371807e-02, -9.4357627e-03, -3.8780276e-02, ...,\n",
       "          1.1299041e-01, -4.1789815e-02, -3.3527620e-02],\n",
       "        [-2.5904024e-02, -3.5997167e-02, -7.1061149e-02, ...,\n",
       "          3.4309704e-02,  3.3588082e-02,  4.0378734e-03],\n",
       "        ...,\n",
       "        [ 3.4146599e-02,  5.1279683e-02, -1.3452513e-02, ...,\n",
       "         -5.9316199e-02, -7.6126844e-02, -6.1643473e-03],\n",
       "        [ 1.5193174e-03,  9.5588505e-02,  3.6485694e-02, ...,\n",
       "          7.0153020e-02,  6.7124382e-02,  4.4512313e-02],\n",
       "        [ 1.2759718e-01, -9.6549898e-02,  7.0778005e-02, ...,\n",
       "         -1.0977658e-01,  1.5454984e-04, -9.4885081e-02]], dtype=float32),\n",
       " array([[-0.03760622, -0.07908435,  0.056144  , ...,  0.10453048,\n",
       "          0.17340901, -0.04156343],\n",
       "        [ 0.02777085, -0.07009911, -0.14439473, ...,  0.10666352,\n",
       "         -0.08416531,  0.12474713],\n",
       "        [-0.12036534,  0.07439449,  0.12618212, ..., -0.08329444,\n",
       "          0.16137464, -0.04777448],\n",
       "        ...,\n",
       "        [-0.00046901,  0.02313122, -0.04597963, ...,  0.06707643,\n",
       "         -0.1866648 , -0.02300006],\n",
       "        [ 0.10138189, -0.1278721 , -0.09137835, ..., -0.09474204,\n",
       "          0.07176868,  0.18258384],\n",
       "        [ 0.15849313, -0.00486013, -0.05042408, ..., -0.12327155,\n",
       "          0.03988632, -0.12397264]], dtype=float32),\n",
       " array([[-0.00654892, -0.02652255,  0.03713157, ...,  0.10154887,\n",
       "         -0.00481951, -0.00408817],\n",
       "        [ 0.02102042, -0.00166711, -0.15321617, ..., -0.00045964,\n",
       "          0.066121  ,  0.01036548],\n",
       "        [ 0.1333601 ,  0.01927402, -0.09781805, ..., -0.1564934 ,\n",
       "          0.06038222,  0.07255308],\n",
       "        ...,\n",
       "        [-0.04285727,  0.02278713, -0.04970931, ...,  0.05023476,\n",
       "          0.0866299 ,  0.15333879],\n",
       "        [-0.02907787, -0.02992004, -0.11253148, ..., -0.03284588,\n",
       "          0.15616016,  0.12267381],\n",
       "        [ 0.02671931, -0.1466012 , -0.26085985, ..., -0.02532667,\n",
       "         -0.17549726,  0.09781598]], dtype=float32),\n",
       " array([-2.0427596e-02,  6.0907593e-03, -3.8915455e-02,  8.8568358e-03,\n",
       "        -6.8953377e-03, -1.7296061e-02, -3.5969606e-03,  2.3732431e-02,\n",
       "         2.1773113e-02,  1.5021473e-02, -9.7678360e-03, -4.2090610e-02,\n",
       "        -2.8951522e-02, -4.3390438e-02, -2.2667333e-02,  1.7183371e-02,\n",
       "         1.4384494e-02,  2.2084375e-03,  2.9223435e-02, -2.6361052e-02,\n",
       "        -1.2041468e-02, -4.7785249e-03, -3.3462819e-02,  6.2745376e-03,\n",
       "        -7.6945444e-06,  2.7821292e-03, -2.5948195e-02, -3.4030955e-03,\n",
       "        -1.3898325e-02, -2.6145231e-02, -7.1281907e-03, -2.6750633e-02,\n",
       "        -9.3220128e-03, -3.8272791e-02,  3.1699543e-03, -2.9675655e-02,\n",
       "        -1.8202830e-02,  1.6234277e-02, -1.6830673e-02,  1.4000633e-02,\n",
       "         9.4455797e-03, -3.2723233e-02, -8.2889535e-03, -1.4013802e-02,\n",
       "         9.1696326e-03, -3.8581159e-02,  2.6016699e-03, -1.7060058e-02,\n",
       "        -2.2839656e-02,  5.7225925e-04, -2.3714865e-02, -2.6593266e-02,\n",
       "        -2.1155082e-02, -2.2303306e-02,  3.3877932e-02,  7.0259511e-03,\n",
       "        -3.7672117e-02, -5.5699758e-03, -4.0861238e-02, -8.1489943e-03,\n",
       "         3.2860052e-02, -5.3424640e-03, -4.0110098e-03,  2.3741951e-02,\n",
       "         1.7278440e-02, -2.0083720e-02, -1.4847448e-02, -4.0406180e-03,\n",
       "         1.4661955e-02,  9.3035130e-03, -8.0259489e-03,  3.5906997e-02,\n",
       "        -1.1021702e-03, -6.8420617e-05, -3.9674580e-02, -7.7790599e-03,\n",
       "         9.4405506e-03, -1.7769543e-02,  3.1486418e-02, -1.6488353e-02,\n",
       "         1.7891625e-02, -2.1238865e-02, -1.1013966e-02, -4.0784713e-02,\n",
       "         3.0472931e-03, -4.1684210e-02, -1.4261161e-03, -5.1699460e-02,\n",
       "        -1.4524546e-02, -1.4292754e-02, -4.5088463e-02,  2.6053274e-02,\n",
       "        -3.0637359e-02, -5.1630225e-02, -4.7284339e-02, -2.1838914e-03,\n",
       "         5.2823895e-03,  1.3102707e-02,  1.7130351e-02,  3.3161603e-03,\n",
       "        -1.4821406e-02, -6.1711168e-04, -3.4547977e-02, -1.2534795e-02,\n",
       "         7.4115574e-02, -4.5360703e-02, -1.6942337e-02, -4.5811962e-03,\n",
       "        -3.4251485e-02, -3.3333737e-02, -6.9645480e-03,  9.3090823e-03,\n",
       "         2.2901178e-03, -6.2289955e-03,  2.0785615e-02, -3.5927244e-02,\n",
       "         3.6244988e-03, -1.0135304e-02, -2.1565231e-02,  3.4192566e-02,\n",
       "        -3.6303882e-02, -4.3490544e-02, -1.4232903e-02, -2.2601029e-02,\n",
       "        -1.1278681e-02,  1.2483580e-02,  2.1078980e-02,  5.3810924e-02],\n",
       "       dtype=float32),\n",
       " array([[-5.33452742e-02],\n",
       "        [ 1.80703327e-01],\n",
       "        [ 1.46595780e-02],\n",
       "        [-1.86346591e-01],\n",
       "        [-1.60894513e-01],\n",
       "        [-1.40460387e-01],\n",
       "        [ 2.96705645e-02],\n",
       "        [ 5.72532080e-02],\n",
       "        [ 1.25822037e-01],\n",
       "        [-1.41367763e-01],\n",
       "        [-2.02054963e-01],\n",
       "        [-8.70038047e-02],\n",
       "        [-1.80628493e-01],\n",
       "        [ 1.04058236e-01],\n",
       "        [-8.77392590e-02],\n",
       "        [-1.09235682e-01],\n",
       "        [ 9.91346613e-02],\n",
       "        [ 1.00585915e-01],\n",
       "        [-2.04580650e-01],\n",
       "        [ 4.84530330e-01],\n",
       "        [-2.80695498e-01],\n",
       "        [-2.50265390e-01],\n",
       "        [ 6.39442950e-02],\n",
       "        [ 2.49844417e-01],\n",
       "        [-1.37411445e-01],\n",
       "        [-2.35149890e-01],\n",
       "        [-5.39095044e-01],\n",
       "        [-1.40171424e-01],\n",
       "        [ 2.38883472e-03],\n",
       "        [ 7.70685822e-02],\n",
       "        [ 2.19868526e-01],\n",
       "        [ 9.90283191e-02],\n",
       "        [ 6.06692061e-02],\n",
       "        [-1.36803091e-01],\n",
       "        [ 1.34635314e-01],\n",
       "        [ 1.92270532e-01],\n",
       "        [ 8.95534456e-02],\n",
       "        [ 7.28424340e-02],\n",
       "        [-1.44729614e-01],\n",
       "        [-8.64664167e-02],\n",
       "        [-2.24623144e-01],\n",
       "        [-1.12715721e-01],\n",
       "        [-1.26801223e-01],\n",
       "        [-1.48007140e-01],\n",
       "        [ 2.20902190e-02],\n",
       "        [-5.20528406e-02],\n",
       "        [-1.44941108e-02],\n",
       "        [-2.06780165e-01],\n",
       "        [-5.57621056e-03],\n",
       "        [ 1.82755083e-01],\n",
       "        [ 2.04952322e-02],\n",
       "        [-1.92133188e-01],\n",
       "        [ 1.18785429e+00],\n",
       "        [-1.49417758e-01],\n",
       "        [-1.99554995e-01],\n",
       "        [-1.04298573e-02],\n",
       "        [ 1.04573056e-01],\n",
       "        [ 3.65509652e-02],\n",
       "        [ 2.41053194e-01],\n",
       "        [-1.75698996e-01],\n",
       "        [-1.58618376e-01],\n",
       "        [ 6.39716089e-02],\n",
       "        [-1.79019928e-01],\n",
       "        [ 2.12838367e-01],\n",
       "        [ 1.22090824e-01],\n",
       "        [ 1.09633722e-03],\n",
       "        [-8.52923542e-02],\n",
       "        [-2.00408101e-01],\n",
       "        [ 2.07552351e-02],\n",
       "        [-2.53810406e-01],\n",
       "        [ 3.38826366e-02],\n",
       "        [ 1.41329423e-01],\n",
       "        [-1.58336446e-01],\n",
       "        [ 1.46211445e-01],\n",
       "        [-4.16644961e-02],\n",
       "        [-2.27479056e-01],\n",
       "        [ 9.55632105e-02],\n",
       "        [-4.91197035e-02],\n",
       "        [-3.00835401e-01],\n",
       "        [ 1.55804068e-01],\n",
       "        [-2.99516499e-01],\n",
       "        [-1.43212676e-01],\n",
       "        [ 1.65174484e-01],\n",
       "        [ 8.80524516e-03],\n",
       "        [-6.42536655e-02],\n",
       "        [ 3.58773887e-01],\n",
       "        [ 2.93883774e-02],\n",
       "        [-1.65774301e-01],\n",
       "        [ 1.23095922e-01],\n",
       "        [-3.74179110e-02],\n",
       "        [ 3.89644667e-03],\n",
       "        [ 5.99304140e-02],\n",
       "        [ 3.35020661e-01],\n",
       "        [-6.27918541e-02],\n",
       "        [ 1.32403389e-01],\n",
       "        [ 8.08679163e-02],\n",
       "        [ 8.79296511e-02],\n",
       "        [ 6.79914132e-02],\n",
       "        [-6.16065376e-02],\n",
       "        [-1.31454140e-01],\n",
       "        [-1.16320476e-01],\n",
       "        [ 2.49126196e-01],\n",
       "        [-8.44628289e-02],\n",
       "        [ 2.08687767e-01],\n",
       "        [-2.00804099e-01],\n",
       "        [ 3.17375243e-01],\n",
       "        [ 1.03168815e-01],\n",
       "        [ 5.80863096e-02],\n",
       "        [-1.65366322e-01],\n",
       "        [-8.58860686e-02],\n",
       "        [ 3.10182180e-02],\n",
       "        [ 9.57496464e-03],\n",
       "        [-1.32525535e-02],\n",
       "        [ 1.87393099e-01],\n",
       "        [-1.43982440e-01],\n",
       "        [ 1.72571123e-01],\n",
       "        [ 1.72166049e-01],\n",
       "        [-1.46610200e-01],\n",
       "        [-2.25794688e-01],\n",
       "        [ 3.45853120e-02],\n",
       "        [-4.60592695e-02],\n",
       "        [-5.61988652e-02],\n",
       "        [-1.36974886e-01],\n",
       "        [ 9.61726978e-02],\n",
       "        [-8.59424546e-02],\n",
       "        [-2.82359719e-01],\n",
       "        [ 1.25095591e-01],\n",
       "        [-1.13342203e-01]], dtype=float32),\n",
       " array([0.808826], dtype=float32)]"
      ]
     },
     "execution_count": 5,
     "metadata": {},
     "output_type": "execute_result"
    }
   ],
   "source": [
    "model.get_weights()"
   ]
  },
  {
   "cell_type": "code",
   "execution_count": 6,
   "metadata": {},
   "outputs": [],
   "source": [
    "# Helpers Functions\n",
    "\n",
    "def decode_review(encoded_review):\n",
    "    return ' '.join([reverse_word_index.get(i - 3, '?') for i in encoded_review])\n",
    "\n",
    "def preprocess_text(text):\n",
    "    words = text.lower().split()\n",
    "    encoded_review = [word_index.get(word, 2) + 3 for word in words]\n",
    "    padded_review = sequence.pad_sequences([encoded_review], maxlen=500)\n",
    "    return padded_review\n"
   ]
  },
  {
   "cell_type": "code",
   "execution_count": 7,
   "metadata": {},
   "outputs": [],
   "source": [
    "## Prediction Functions\n",
    "\n",
    "def predict_sentiments(review):\n",
    "    preprocessed_input = preprocess_text(review)\n",
    "    prediction = model.predict(preprocessed_input)\n",
    "    sentiment = \"Positive\" if prediction[0][0] > 0.5 else \"Negative\"\n",
    "    \n",
    "    return sentiment, prediction[0][0]"
   ]
  },
  {
   "cell_type": "code",
   "execution_count": 14,
   "metadata": {},
   "outputs": [
    {
     "name": "stdout",
     "output_type": "stream",
     "text": [
      "\u001b[1m1/1\u001b[0m \u001b[32m━━━━━━━━━━━━━━━━━━━━\u001b[0m\u001b[37m\u001b[0m \u001b[1m0s\u001b[0m 49ms/step\n",
      "Review: This movie was fantastic! The acting was great and the plot was thrilling.\n",
      "Sentiment: Positive\n",
      "Prediction Score: 0.597968339920044\n"
     ]
    }
   ],
   "source": [
    "# Example review for prediction\n",
    "\n",
    "example_review = \"This movie was fantastic! The acting was great and the plot was thrilling.\"\n",
    "sentiment, score = predict_sentiments(example_review)\n",
    "\n",
    "print(f'Review: {example_review}')\n",
    "print(f'Sentiment: {sentiment}')\n",
    "print(f'Prediction Score: {score}')"
   ]
  },
  {
   "cell_type": "code",
   "execution_count": 15,
   "metadata": {},
   "outputs": [
    {
     "name": "stdout",
     "output_type": "stream",
     "text": [
      "\u001b[1m1/1\u001b[0m \u001b[32m━━━━━━━━━━━━━━━━━━━━\u001b[0m\u001b[37m\u001b[0m \u001b[1m0s\u001b[0m 42ms/step\n",
      "Review: This movie was ridiculous! The acting was bad and the plot was boring.\n",
      "Sentiment: Negative\n",
      "Prediction Score: 0.3125438690185547\n"
     ]
    }
   ],
   "source": [
    "# Example review for prediction\n",
    "\n",
    "example_review = \"This movie was ridiculous! The acting was bad and the plot was boring.\"\n",
    "sentiment, score = predict_sentiments(example_review)\n",
    "\n",
    "print(f'Review: {example_review}')\n",
    "print(f'Sentiment: {sentiment}')\n",
    "print(f'Prediction Score: {score}')"
   ]
  },
  {
   "cell_type": "code",
   "execution_count": null,
   "metadata": {},
   "outputs": [],
   "source": []
  }
 ],
 "metadata": {
  "kernelspec": {
   "display_name": "Python 3",
   "language": "python",
   "name": "python3"
  },
  "language_info": {
   "codemirror_mode": {
    "name": "ipython",
    "version": 3
   },
   "file_extension": ".py",
   "mimetype": "text/x-python",
   "name": "python",
   "nbconvert_exporter": "python",
   "pygments_lexer": "ipython3",
   "version": "3.11.0"
  }
 },
 "nbformat": 4,
 "nbformat_minor": 2
}
